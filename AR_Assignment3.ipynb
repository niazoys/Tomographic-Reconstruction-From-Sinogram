{
 "cells": [
  {
   "cell_type": "markdown",
   "metadata": {},
   "source": [
    "# Tomographic reconstrution"
   ]
  },
  {
   "cell_type": "markdown",
   "metadata": {},
   "source": [
    "The goal of this assignment is to implement a tomographic reconstruction, first in 2D and then in 3D.\n",
    "You can use numpy and any library you want to open the images, but no library that do all or part of the reconstruction.\n",
    "\n",
    "This notebook come with two folders : <br>\n",
    "&nbsp;&nbsp;&nbsp;./&nbsp;+<br>\n",
    "&nbsp;&nbsp;&nbsp;&nbsp;&nbsp;&nbsp;|--AR_Assignment3.ipynb<br>\n",
    "&nbsp;&nbsp;&nbsp;&nbsp;&nbsp;&nbsp;|--data/\\*<br>\n",
    "&nbsp;&nbsp;&nbsp;&nbsp;&nbsp;&nbsp;|--notebook_images/\\*<br>\n",
    " \n"
   ]
  },
  {
   "cell_type": "markdown",
   "metadata": {},
   "source": [
    "## I) Parallel 2D reconstruction (3pts)\n",
    "\n",
    "The first step will be to reconstruct a 2D image from 1D projections.\n",
    "\n",
    "The reconstructions algorithms are based on two function : the projection and the backprojection.\n",
    "\n",
    "The projection is the process done when capturing a radiograph. It reduce the dimension of an object by one (2D->1D or 3D->2D). \n",
    "\n",
    "The backprojection is the inverse operation of the projection : it take a projected data and propagate it into a higher dimension object (1D->2D, 2D->3D). Of course, a lot of information is lost in the projection process, so the result of the backprojection carry a lot less information than the original object. In order to obtain a better approximation, a lot of projections at different positions are needed.\n",
    "\n",
    "For both the projection and the backprojection, you need to link which voxel is linked with which pixels. From a backprojection perspective, it's better to start at each pixel and determine which voxels are projected to this pixel. It can be done by tracing a discrete path in the volume, with the start and end of this path depending on the geometry of the aquisition.\n",
    "\n",
    "So, you need to compute for each pixels of the projected data the path in the reconstructed object between the pixel and the source, and add to all element in this path the value of the pixel divided by the length of the path.\n",
    "\n",
    "For an improved image quality, the path can be also weighted (anti-aliased) to produce a smoother result. In this assignment, you are not asked to do that and can consider all elements in the path to have a weigth of 1.\n",
    "\n",
    "<img src=\"notebook_images/projection_2d_par.jpg\" alt=\"Projection 2D parallel\" style=\"height: 20em;\"/>\n",
    "\n",
    "In the case of a parallel geometry, the voxels have the same size as the pixels, and the distances between the source, the object and the detector don't impact the result.\n",
    "\n",
    "**Step 1.0 :** Write a function that take two 2D points in a grid as argument and return the list of all the cells (coordinates) that are in the path between them."
   ]
  },
  {
   "cell_type": "code",
   "execution_count": 22,
   "metadata": {},
   "outputs": [],
   "source": [
    "def get_cells(p1, p2):\n",
    "    # Setup initial conditions\n",
    "    x1, y1 = p1\n",
    "    x2, y2 = p2\n",
    "    dx = x2 - x1\n",
    "    dy = y2 - y1\n",
    "    # Determine how steep the line is\n",
    "    is_steep = abs(dy) > abs(dx)\n",
    "\n",
    "    # Rotate line\n",
    "    if is_steep:\n",
    "        x1, y1 = y1, x1\n",
    "        x2, y2 = y2, x2\n",
    "\n",
    "    # Swap start and end points if necessary and store swap state\n",
    "    swapped = False\n",
    "    if x1 > x2:\n",
    "        x1, x2 = x2, x1\n",
    "        y1, y2 = y2, y1\n",
    "        swapped = True\n",
    "\n",
    "    # Recalculate differentials\n",
    "    dx = x2 - x1\n",
    "    dy = y2 - y1\n",
    "\n",
    "    # Calculate error\n",
    "    error = int(dx / 2.0)\n",
    "    ystep = 1 if y1 < y2 else -1\n",
    "\n",
    "    # Iterate over bounding box generating points between start and end\n",
    "    y = y1\n",
    "    points = []\n",
    "    for x in range(x1, x2 + 1):\n",
    "        coord = (y, x) if is_steep else (x, y)\n",
    "        points.append(coord)\n",
    "        error -= abs(dy)\n",
    "        if error < 0:\n",
    "            y += ystep\n",
    "            error += dx\n",
    "    # Reverse the list if the coordinates were swapped\n",
    "    if swapped:\n",
    "        points.reverse()\n",
    "    return points"
   ]
  },
  {
   "source": [
    "**Step 1.1 :** Create a numpy array of size 80 by 80 filled with zeros. Using the previous function, fill the path from \\[3,5\\] to \\[70,75\\] with ones and display the result  with gnuplot."
   ],
   "cell_type": "markdown",
   "metadata": {}
  },
  {
   "cell_type": "code",
   "execution_count": 23,
   "metadata": {},
   "outputs": [],
   "source": [
    "import numpy as np\n",
    "arr=np.zeros([80,80])\n",
    "pathCor=get_cells((3,5),(70,75))\n",
    "for point in pathCor:\n",
    "    arr[point]=1\n"
   ]
  },
  {
   "source": [
    "**Step 1.2 :** Write a function that take as argument a coordinate on a sinogram line and the angle of this line (and possibly other parameters to represent the geometry) and return the start and end of the path between this pixel and the source in a parallel geometry."
   ],
   "cell_type": "markdown",
   "metadata": {}
  },
  {
   "cell_type": "code",
   "execution_count": 24,
   "metadata": {},
   "outputs": [],
   "source": [
    "def draw_line(point,angle,xlim = 10, ylim = 10):\n",
    "    x,y = point\n",
    "    \n",
    "    if angle%180==0:\n",
    "        m = 0\n",
    "    elif angle==90 and angle==270:\n",
    "        m = 2\n",
    "    else:\n",
    "        #slope\n",
    "        m = math.tan(math.radians(angle))\n",
    "    #find the y intercept of y=mx+c\n",
    "    c = y - m*x\n",
    "    if abs(m)<=1:\n",
    "        x2 = xlim\n",
    "        point_end = [x2,np.round(m*x2 +c)]\n",
    "        point_start = [-x2,np.round(-m*x2 +c)]\n",
    "    else:\n",
    "        y2 = ylim\n",
    "        point_end = [np.round((y2-c)/m),y2]\n",
    "        point_start = [np.round((-y2-c)/m),-y2]\n",
    "    return point_start,point_end"
   ]
  },
  {
   "cell_type": "code",
   "execution_count": 25,
   "metadata": {},
   "outputs": [
    {
     "output_type": "stream",
     "name": "stdout",
     "text": [
      "[-10, -13] [10, -13]\n"
     ]
    }
   ],
   "source": [
    "p = [-13,-13]\n",
    "angle = 180\n",
    "[p1,p2] = draw_line(p,angle)\n",
    "print(p1,p2)"
   ]
  },
  {
   "source": [
    "**Step 1.3 :** Create a function that take as argument a sinogram and the needed parameters, and output the result of the 2D backprojection. You should use the previous functions."
   ],
   "cell_type": "markdown",
   "metadata": {}
  },
  {
   "source": [],
   "cell_type": "code",
   "metadata": {},
   "execution_count": null,
   "outputs": []
  },
  {
   "source": [
    "**Step 1.4 :** Open the tiff file \"data/sinogram_2d_parallel.tif\" and display it. Each line of the sinogram represent the projection of the image at a given angle.\n",
    "\n",
    "The parameters of this projection are the following :\n",
    " - Parallel aqcuisition geometry\n",
    " - 200 projections over 360 degrees (with a regular step)"
   ],
   "cell_type": "markdown",
   "metadata": {}
  },
  {
   "cell_type": "code",
   "execution_count": null,
   "metadata": {},
   "outputs": [],
   "source": []
  },
  {
   "source": [
    "**Step 1.5 :** Apply the parallel reconstruction function to the parallel sinogram and display the result"
   ],
   "cell_type": "markdown",
   "metadata": {}
  },
  {
   "cell_type": "code",
   "execution_count": null,
   "metadata": {},
   "outputs": [],
   "source": []
  },
  {
   "source": [
    "## 2) Spherical 2D reconstruction (3pts)\n",
    "\n",
    "The parallel geometry is simpler to reconstruct, but in practice not used so often because of the complexity of the parallel x-ray generation. A much more common approach is to use a ponctual source, that create a spherical geometry. \n",
    "\n",
    "The path come from the source and go to a pixel on the detector. In 2D, it can be simplifies as a fan-beam when the source and the detector are aligned.\n",
    "\n",
    "<img src=\"notebook_images/projection_2d_cone.jpg\" alt=\"Projection 2D spherical\" style=\"height: 20em;\"/>"
   ],
   "cell_type": "markdown",
   "metadata": {}
  },
  {
   "source": [
    "**Step 2.0 :** Write a function that take as argument a coordinate on a sinogram line and the angle of this line (and possibly other parameters to represent the geometry) and return the start and end of the path between this pixel and the source in a spherical geometry."
   ],
   "cell_type": "markdown",
   "metadata": {}
  },
  {
   "cell_type": "code",
   "execution_count": null,
   "metadata": {},
   "outputs": [],
   "source": []
  },
  {
   "source": [
    "**Step 2.1 :** Create a function that take as argument a sinogram and the needed parameters, and output the result of the 2D spherical back-projection. You should use the previous functions."
   ],
   "cell_type": "markdown",
   "metadata": {}
  },
  {
   "cell_type": "code",
   "execution_count": null,
   "metadata": {},
   "outputs": [],
   "source": []
  },
  {
   "source": [
    "**Step 2.2 :** Open the tiff file \"data/sinogram_2d_spherical.tif\" and display it.\n",
    "\n",
    "The parameters of the projection are the following :\n",
    " - Spherical aqcuisition geometry\n",
    " - 200 projections over 360 degrees\n",
    " - 300mm\n",
    " - 400mm\n",
    " - Voxel size of 1mm"
   ],
   "cell_type": "markdown",
   "metadata": {}
  },
  {
   "cell_type": "code",
   "execution_count": null,
   "metadata": {},
   "outputs": [],
   "source": []
  },
  {
   "source": [
    "**Step 2.3 :** Apply the spherical reconstruction function to the spherical sinogram and display the result"
   ],
   "cell_type": "markdown",
   "metadata": {}
  },
  {
   "cell_type": "code",
   "execution_count": null,
   "metadata": {},
   "outputs": [],
   "source": []
  },
  {
   "source": [
    "## 3) Spherical 3D reconstruction (3pts + 1pt for performances)\n",
    "\n",
    "Now we are going to extend this algorithm to 3D.\n",
    "\n",
    "Going from 2D to 3D means that a lot more computations have to be done. \n",
    "Using only python for-loop for the 3D reconstruction will be very slow. It's recommended to use as much as possible the numpy functions to avoid having to use too many for-loop.\n",
    "\n",
    "<img src=\"notebook_images/projection_3d_cone.jpg\" alt=\"Projection 3D spherical\" style=\"height: 20em;\"/>\n",
    "\n",
    " **Step 3.0 :** Write a function that return the coordinates of all voxels between two points in a 3D grid\n",
    " "
   ],
   "cell_type": "markdown",
   "metadata": {}
  },
  {
   "cell_type": "code",
   "execution_count": null,
   "metadata": {},
   "outputs": [],
   "source": []
  },
  {
   "source": [
    "**Step 3.1 :** Write a function that take as argument a coordinate on a projection and an angle (and possibly other parameters to represent the geometry) and return the start and end of the path between this pixel and the source in a 3D spherical geometry."
   ],
   "cell_type": "markdown",
   "metadata": {}
  },
  {
   "cell_type": "code",
   "execution_count": null,
   "metadata": {},
   "outputs": [],
   "source": []
  },
  {
   "source": [
    "**Step 3.2 :** Create a function that take as argument a list of projection and the needed parameters, and output the result of the 3D spherical back-projection."
   ],
   "cell_type": "markdown",
   "metadata": {}
  },
  {
   "cell_type": "code",
   "execution_count": null,
   "metadata": {},
   "outputs": [],
   "source": []
  },
  {
   "source": [
    "**Step 3.3 : ** Open all the tiff files in \"data/3d_projections/\"\n",
    "\n",
    "The parameters of this dataset are the following :\n",
    "\n",
    " - Spherical aqcuisition geometry\n",
    " - The source, the rotation axis and the detector are all aligned\n",
    " - 200 projections over 360 degrees\n",
    " - Distance source-object : 200mm\n",
    " - Distance source-detector : 2000mm\n",
    " - Pixel size : 0.5mm by 0.5mm"
   ],
   "cell_type": "markdown",
   "metadata": {}
  },
  {
   "cell_type": "code",
   "execution_count": null,
   "metadata": {},
   "outputs": [],
   "source": []
  },
  {
   "source": [
    "**Step 3.4 :** Apply the function to the dataset and display the result of an arbitrary layer"
   ],
   "cell_type": "markdown",
   "metadata": {}
  },
  {
   "cell_type": "code",
   "execution_count": 26,
   "metadata": {},
   "outputs": [
    {
     "output_type": "execute_result",
     "data": {
      "text/plain": [
       "Ellipsis"
      ]
     },
     "metadata": {},
     "execution_count": 26
    }
   ],
   "source": [
    "DISPLAYED_LAYER_INDEX = 64\n",
    "\n",
    "..."
   ]
  }
 ],
 "metadata": {
  "kernelspec": {
   "display_name": "Python 3",
   "language": "python",
   "name": "python3"
  },
  "language_info": {
   "codemirror_mode": {
    "name": "ipython",
    "version": 3
   },
   "file_extension": ".py",
   "mimetype": "text/x-python",
   "name": "python",
   "nbconvert_exporter": "python",
   "pygments_lexer": "ipython3",
   "version": "3.8.3-final"
  }
 },
 "nbformat": 4,
 "nbformat_minor": 4
}